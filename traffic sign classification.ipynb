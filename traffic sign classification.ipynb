{
 "cells": [
  {
   "cell_type": "code",
   "execution_count": 32,
   "metadata": {},
   "outputs": [],
   "source": [
    "import numpy as np\n",
    "import pandas as pd\n",
    "import matplotlib.pyplot as plt\n",
    "import tensorflow as tf\n",
    "from PIL import Image\n",
    "import os\n",
    "from sklearn.model_selection import train_test_split\n",
    "from keras.models import Sequential\n",
    "from keras.utils import to_categorical\n",
    "from keras.layers import Conv2D, MaxPool2D, Dense, Flatten, Dropout"
   ]
  },
  {
   "cell_type": "markdown",
   "metadata": {},
   "source": [
    "## Step 1: Explore the dataset\n",
    "\n",
    "Our ‘train’ folder contains 43 folders each representing a different class. The range of the folder is from 0 to 42. With the help of the OS module, we iterate over all the classes and append images and their respective labels in the data and labels list.\n",
    "\n",
    "The PIL library is used to open image content into an array."
   ]
  },
  {
   "cell_type": "code",
   "execution_count": 8,
   "metadata": {},
   "outputs": [],
   "source": [
    "data = []\n",
    "labels = []\n",
    "classes = 43          # we have 43 different signs\n",
    "curr_dir = os.getcwd()  # getcwd()  returns current working directory of a process\n",
    "\n",
    "for i in range(classes):\n",
    "    path = os.path.join(curr_dir, 'Train', str(i))\n",
    "    images = os.listdir(path)\n",
    "\n",
    "    for a in images:\n",
    "      try:\n",
    "          img = Image.open(path + '\\\\' + a)\n",
    "          img = img.resize((30, 30))\n",
    "          img = np.array(img)\n",
    "          data.append(img)\n",
    "          labels.append(i)\n",
    "      except:\n",
    "          print(\"Error Loading Image\")\n",
    "\n",
    "data    = np.array(data)\n",
    "labels  = np.array(labels)"
   ]
  },
  {
   "cell_type": "markdown",
   "metadata": {},
   "source": [
    "Finally, we have stored all the images and their labels into lists (data and labels).\n",
    "\n",
    "We need to convert the list into numpy arrays for feeding to the model.\n",
    "\n",
    "The shape of data is (39209, 30, 30, 3) which means that there are 39,209 images of size 30×30 pixels and the last 3 means the data contains colored images (RGB value).\n",
    "\n",
    "With the sklearn package, we use the train_test_split() method to split training and testing data.\n",
    "\n",
    "From the keras.utils package, we use to_categorical method to convert the labels present in y_train and t_test into one-hot encoding."
   ]
  },
  {
   "cell_type": "code",
   "execution_count": 17,
   "metadata": {},
   "outputs": [
    {
     "name": "stdout",
     "output_type": "stream",
     "text": [
      "(39209, 30, 30, 3) (39209,)\n",
      "(31367, 30, 30, 3) (7842, 30, 30, 3) (31367,) (7842,)\n"
     ]
    }
   ],
   "source": [
    "print(data.shape, labels.shape)\n",
    "\n",
    "x_train, x_test, y_train, y_test = train_test_split(data, labels, test_size = 0.2, random_state = 42)\n",
    "print(x_train.shape, x_test.shape, y_train.shape, y_test.shape)\n",
    "\n",
    "y_train = to_categorical(y_train, 43)\n",
    "y_test = to_categorical(y_test, 43)"
   ]
  },
  {
   "cell_type": "markdown",
   "metadata": {},
   "source": [
    "## Step 2: Build a CNN model\n",
    "\n",
    "To classify the images into their respective categories, we will build a CNN model (Convolutional Neural Network). CNN is best for image classification purposes.\n",
    "\n",
    "\n",
    "The architecture of our model is:\n",
    "\n",
    "- 2 Conv2D layer (filter=32, kernel_size=(5,5), activation=”relu”)\n",
    "\n",
    "- MaxPool2D layer ( pool_size=(2,2))\n",
    "\n",
    "- Dropout layer (rate=0.25)\n",
    "\n",
    "- 2 Conv2D layer (filter=64, kernel_size=(3,3), activation=”relu”)\n",
    "\n",
    "- MaxPool2D layer ( pool_size=(2,2))\n",
    "\n",
    "- Dropout layer (rate=0.25)\n",
    "\n",
    "- Flatten layer to squeeze the layers into 1 dimension\n",
    "\n",
    "- Dense Fully connected layer (256 nodes, activation=”relu”)\n",
    "\n",
    "- Dropout layer (rate=0.5)\n",
    "\n",
    "- Dense layer (43 nodes, activation=”softmax”)\n",
    "\n",
    "We compile the model with Adam optimizer which performs well and loss is “categorical_crossentropy” because we have multiple classes to categorise.\n",
    "\n"
   ]
  },
  {
   "cell_type": "code",
   "execution_count": 29,
   "metadata": {},
   "outputs": [],
   "source": [
    "model = Sequential()\n",
    "model.add(Conv2D(filters=32, kernel_size=(5,5), activation='relu', input_shape=x_train.shape[1:]))\n",
    "model.add(Conv2D(filters=32, kernel_size=(5,5), activation='relu'))\n",
    "model.add(MaxPool2D(pool_size=(2,2)))\n",
    "model.add(Dropout(rate=0.25))\n",
    "\n",
    "model.add(Conv2D(filters=64, kernel_size=(3, 3), activation='relu'))\n",
    "model.add(Conv2D(filters=64, kernel_size=(3, 3), activation='relu'))\n",
    "model.add(MaxPool2D(pool_size=(2,2)))\n",
    "model.add(Dropout(rate=0.25))\n",
    "\n",
    "model.add(Flatten())\n",
    "\n",
    "model.add(Dense(256, activation='relu'))\n",
    "model.add(Dropout(rate=0.5))\n",
    "model.add(Dense(43, activation='softmax'))  # output layer ==> 43 classes\n",
    "\n",
    "model.compile(loss='categorical_crossentropy', optimizer='adam', metrics=['accuracy'])"
   ]
  },
  {
   "cell_type": "markdown",
   "metadata": {},
   "source": [
    "# Steps 3: Train and validate the model\n",
    "\n",
    "After building the model architecture, we then train the model using model.fit(). I tried with batch size 32 and 64. \n",
    "\n",
    "Our model performed better with 64 batch size. And after 15 epochs the accuracy was stable."
   ]
  },
  {
   "cell_type": "code",
   "execution_count": 30,
   "metadata": {},
   "outputs": [
    {
     "name": "stdout",
     "output_type": "stream",
     "text": [
      "Epoch 1/15\n",
      "WARNING:tensorflow:AutoGraph could not transform <function Model.make_train_function.<locals>.train_function at 0x0000024600A24CA8> and will run it as-is.\n",
      "Please report this to the TensorFlow team. When filing the bug, set the verbosity to 10 (on Linux, `export AUTOGRAPH_VERBOSITY=10`) and attach the full output.\n",
      "Cause: 'arguments' object has no attribute 'posonlyargs'\n",
      "To silence this warning, decorate the function with @tf.autograph.experimental.do_not_convert\n",
      "WARNING: AutoGraph could not transform <function Model.make_train_function.<locals>.train_function at 0x0000024600A24CA8> and will run it as-is.\n",
      "Please report this to the TensorFlow team. When filing the bug, set the verbosity to 10 (on Linux, `export AUTOGRAPH_VERBOSITY=10`) and attach the full output.\n",
      "Cause: 'arguments' object has no attribute 'posonlyargs'\n",
      "To silence this warning, decorate the function with @tf.autograph.experimental.do_not_convert\n",
      "490/491 [============================>.] - ETA: 0s - loss: 2.2700 - accuracy: 0.4575WARNING:tensorflow:AutoGraph could not transform <function Model.make_test_function.<locals>.test_function at 0x0000024600C73A68> and will run it as-is.\n",
      "Please report this to the TensorFlow team. When filing the bug, set the verbosity to 10 (on Linux, `export AUTOGRAPH_VERBOSITY=10`) and attach the full output.\n",
      "Cause: 'arguments' object has no attribute 'posonlyargs'\n",
      "To silence this warning, decorate the function with @tf.autograph.experimental.do_not_convert\n",
      "WARNING: AutoGraph could not transform <function Model.make_test_function.<locals>.test_function at 0x0000024600C73A68> and will run it as-is.\n",
      "Please report this to the TensorFlow team. When filing the bug, set the verbosity to 10 (on Linux, `export AUTOGRAPH_VERBOSITY=10`) and attach the full output.\n",
      "Cause: 'arguments' object has no attribute 'posonlyargs'\n",
      "To silence this warning, decorate the function with @tf.autograph.experimental.do_not_convert\n",
      "491/491 [==============================] - 108s 219ms/step - loss: 2.2697 - accuracy: 0.4576 - val_loss: 0.5510 - val_accuracy: 0.8761\n",
      "Epoch 2/15\n",
      "491/491 [==============================] - 106s 216ms/step - loss: 0.6410 - accuracy: 0.8116 - val_loss: 0.1562 - val_accuracy: 0.9602\n",
      "Epoch 3/15\n",
      "491/491 [==============================] - 105s 214ms/step - loss: 0.3505 - accuracy: 0.8974 - val_loss: 0.0950 - val_accuracy: 0.9733\n",
      "Epoch 4/15\n",
      "491/491 [==============================] - 95s 194ms/step - loss: 0.2678 - accuracy: 0.9216 - val_loss: 0.0702 - val_accuracy: 0.9807\n",
      "Epoch 5/15\n",
      "491/491 [==============================] - 98s 199ms/step - loss: 0.2102 - accuracy: 0.9392 - val_loss: 0.0585 - val_accuracy: 0.9856\n",
      "Epoch 6/15\n",
      "491/491 [==============================] - 135s 275ms/step - loss: 0.2002 - accuracy: 0.9435 - val_loss: 0.0610 - val_accuracy: 0.9842\n",
      "Epoch 7/15\n",
      "491/491 [==============================] - 119s 243ms/step - loss: 0.1741 - accuracy: 0.9513 - val_loss: 0.0415 - val_accuracy: 0.9901\n",
      "Epoch 8/15\n",
      "491/491 [==============================] - 113s 231ms/step - loss: 0.1783 - accuracy: 0.9504 - val_loss: 0.0426 - val_accuracy: 0.9895\n",
      "Epoch 9/15\n",
      "491/491 [==============================] - 107s 219ms/step - loss: 0.1664 - accuracy: 0.9542 - val_loss: 0.0491 - val_accuracy: 0.9857\n",
      "Epoch 10/15\n",
      "491/491 [==============================] - 104s 211ms/step - loss: 0.1517 - accuracy: 0.9594 - val_loss: 0.0354 - val_accuracy: 0.9923\n",
      "Epoch 11/15\n",
      "491/491 [==============================] - 115s 235ms/step - loss: 0.1495 - accuracy: 0.9595 - val_loss: 0.0524 - val_accuracy: 0.9879\n",
      "Epoch 12/15\n",
      "491/491 [==============================] - 111s 226ms/step - loss: 0.1489 - accuracy: 0.9604 - val_loss: 0.0581 - val_accuracy: 0.9848\n",
      "Epoch 13/15\n",
      "491/491 [==============================] - 105s 213ms/step - loss: 0.1617 - accuracy: 0.9578 - val_loss: 0.0374 - val_accuracy: 0.9911\n",
      "Epoch 14/15\n",
      "491/491 [==============================] - 99s 203ms/step - loss: 0.1296 - accuracy: 0.9655 - val_loss: 0.0533 - val_accuracy: 0.9862\n",
      "Epoch 15/15\n",
      "491/491 [==============================] - 94s 192ms/step - loss: 0.1353 - accuracy: 0.9643 - val_loss: 0.0368 - val_accuracy: 0.9906\n"
     ]
    }
   ],
   "source": [
    "epochs= 15\n",
    "result = model.fit(x_train, y_train, batch_size=64, epochs=epochs, validation_data = (x_test, y_test))"
   ]
  },
  {
   "cell_type": "markdown",
   "metadata": {},
   "source": [
    "# accuracy: 96%\n",
    "Our model got a 96% accuracy on the training dataset.\n",
    "With matplotlib, we plot the graph for accuracy and the loss"
   ]
  },
  {
   "cell_type": "code",
   "execution_count": 34,
   "metadata": {},
   "outputs": [
    {
     "data": {
      "text/plain": [
       "<matplotlib.legend.Legend at 0x24601dd3dc8>"
      ]
     },
     "execution_count": 34,
     "metadata": {},
     "output_type": "execute_result"
    },
    {
     "data": {
      "image/png": "[encoded data removed]",
      "text/plain": [
       "<Figure size 432x288 with 1 Axes>"
      ]
     },
     "metadata": {
      "needs_background": "light"
     },
     "output_type": "display_data"
    },
    {
     "data": {
      "image/png": "[encoded data removed]",
      "text/plain": [
       "<Figure size 432x288 with 1 Axes>"
      ]
     },
     "metadata": {
      "needs_background": "light"
     },
     "output_type": "display_data"
    }
   ],
   "source": [
    "# draw accuracy plot\n",
    "plt.figure(0)\n",
    "plt.plot(result.history['accuracy'], label=\"Training accuracy\")\n",
    "plt.plot(result.history['val_loss'], label='val accuracy')\n",
    "plt.title(\"Accuracy\")\n",
    "plt.xlabel(\"Epochs\")\n",
    "plt.ylabel(\"accuracy\")\n",
    "plt.legend()\n",
    "\n",
    "# draw Loss plot\n",
    "plt.figure(1)\n",
    "plt.plot(result.history['loss'], label=\"Training loss\")\n",
    "plt.plot(result.history['val_accuracy'], label='val loss')\n",
    "plt.title(\"Loss\")\n",
    "plt.xlabel(\"Epochs\")\n",
    "plt.ylabel(\"loss\")\n",
    "plt.legend()"
   ]
  },
  {
   "cell_type": "markdown",
   "metadata": {},
   "source": [
    "# Step 4: Test our model with test dataset\n",
    "\n",
    "Our dataset contains a test folder and in a test.csv file, we have the details related to the image path and their respective class labels. We extract the image path and labels using pandas. Then to predict the model, we have to resize our images to 30×30 pixels and make a numpy array containing all image data. From the sklearn.metrics, we imported the accuracy_score and observed how our model predicted the actual labels. We achieved a 95% accuracy in this model."
   ]
  },
  {
   "cell_type": "code",
   "execution_count": 41,
   "metadata": {},
   "outputs": [
    {
     "data": {
      "text/plain": [
       "0.9607284243863816"
      ]
     },
     "execution_count": 41,
     "metadata": {},
     "output_type": "execute_result"
    }
   ],
   "source": [
    "from sklearn.metrics import accuracy_score\n",
    "import pandas as pd\n",
    "\n",
    "y_test = pd.read_csv('Test.csv')\n",
    "labels = y_test['ClassId'].values\n",
    "images = y_test['Path'].values\n",
    "\n",
    "data=[]\n",
    "\n",
    "for img in images:\n",
    "    im = Image.open(img)\n",
    "    im = im.resize((30, 30))\n",
    "    data.append(np.array(im))\n",
    "    \n",
    "x_test = np.array(data)\n",
    "\n",
    "pred = model.predict_classes(x_test)\n",
    "\n",
    "# Cheack Accuracy with unseen test_data\n",
    "accuracy_score(labels, pred)"
   ]
  },
  {
   "cell_type": "markdown",
   "metadata": {},
   "source": [
    "In the end, we are going to save the model that we have trained using the Keras model.save() function"
   ]
  },
  {
   "cell_type": "code",
   "execution_count": 38,
   "metadata": {},
   "outputs": [],
   "source": [
    "model.save('traffic_signs_classifier.h5')"
   ]
  },
  {
   "cell_type": "code",
   "execution_count": null,
   "metadata": {},
   "outputs": [],
   "source": []
  }
 ],
 "metadata": {
  "kernelspec": {
   "display_name": "Python 3.7.6 64-bit ('saif': virtualenv)",
   "language": "python",
   "name": "python37664bitsaifvirtualenv69b2a53a85384e0e804ae58727fc56a1"
  },
  "language_info": {
   "codemirror_mode": {
    "name": "ipython",
    "version": 3
   },
   "file_extension": ".py",
   "mimetype": "text/x-python",
   "name": "python",
   "nbconvert_exporter": "python",
   "pygments_lexer": "ipython3",
   "version": "3.7.6"
  }
 },
 "nbformat": 4,
 "nbformat_minor": 4
}
